{
 "cells": [
  {
   "cell_type": "code",
   "execution_count": null,
   "metadata": {},
   "outputs": [],
   "source": [
    "from gensim.models import word2vec\n"
   ]
  },
  {
   "cell_type": "code",
   "execution_count": null,
   "metadata": {},
   "outputs": [],
   "source": [
    "\n",
    "def main():\n",
    "\n",
    "    num_features = 300    # Word vector dimensionality\n",
    "    min_word_count = 10   # Minimum word count\n",
    "    num_workers = 16       # Number of threads to run in parallel\n",
    "    context = 10          # Context window size\n",
    "    downsampling = 1e-3   # Downsample setting for frequent words\n",
    "    sentences = word2vec.Text8Corpus(\"seg201708.txt\")\n",
    "\n",
    "    model = word2vec.Word2Vec(sentences, workers=num_workers, \\\n",
    "            size=num_features, min_count = min_word_count, \\\n",
    "            window = context, sg = 1, sample = downsampling)\n",
    "    model.init_sims(replace=True)\n",
    "    # 保存模型，供日後使用\n",
    "    model.save(\"model201708\")\n",
    "    \n",
    "    # 可以在加载模型之后使用另外的句子来进一步训练模型\n",
    "    # model = gensim.models.Word2Vec.load('/tmp/mymodel')\n",
    "    # model.train(more_sentences)\n",
    "\n",
    "if __name__ == \"__main__\":\n",
    "    main()"
   ]
  },
  {
   "cell_type": "code",
   "execution_count": null,
   "metadata": {},
   "outputs": [],
   "source": [
    "model = Word2Vec.load('model201708')      #模型讀取方式\n",
    "model.most_similar(positive=['woman', 'king'], negative=['man']) #根据给定的条件推断相似词\n",
    "model.doesnt_match(\"breakfast cereal dinner lunch\".split()) #寻找离群词\n",
    "model.similarity('woman', 'man') #计算两个单词的相似度\n",
    "model['computer'] #获取单词的词向量"
   ]
  },
  {
   "cell_type": "code",
   "execution_count": null,
   "metadata": {},
   "outputs": [],
   "source": []
  }
 ],
 "metadata": {
  "kernelspec": {
   "display_name": "phb",
   "language": "python",
   "name": "python3"
  },
  "language_info": {
   "codemirror_mode": {
    "name": "ipython",
    "version": 3
   },
   "file_extension": ".py",
   "mimetype": "text/x-python",
   "name": "python",
   "nbconvert_exporter": "python",
   "pygments_lexer": "ipython3",
   "version": "3.10.14"
  }
 },
 "nbformat": 4,
 "nbformat_minor": 2
}
