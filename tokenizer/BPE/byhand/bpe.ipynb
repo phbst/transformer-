{
 "cells": [
  {
   "cell_type": "markdown",
   "metadata": {},
   "source": [
    "## 🤗大致流程：\n",
    "- 规范化\n",
    "- 预标记化\n",
    "- 将单词拆分为单个字符\n",
    "- 将学习的合并规则按顺序应用于这些拆分"
   ]
  },
  {
   "cell_type": "markdown",
   "metadata": {},
   "source": [
    "## 规范化\n",
    "\n",
    "标准化步骤涉及一些常规清理，例如删除不必要的空格、小写和/或删除重音符号。如果你熟悉Unicode normalization（例如 NFC 或 NFKC），这也是 tokenizer 可能应用的东西。\n",
    "\n",
    "🤗Transformers tokenizer 有一个属性叫做 backend_tokenizer 它提供了对 🤗 Tokenizers 库中底层标记器的访问：\n",
    "\n"
   ]
  },
  {
   "cell_type": "code",
   "execution_count": 1,
   "metadata": {},
   "outputs": [
    {
     "name": "stdout",
     "output_type": "stream",
     "text": [
      "<class 'tokenizers.Tokenizer'>\n"
     ]
    }
   ],
   "source": [
    "from transformers import AutoTokenizer\n",
    "\n",
    "tokenizer = AutoTokenizer.from_pretrained(\"bert-base-uncased\")\n",
    "print(type(tokenizer.backend_tokenizer))"
   ]
  },
  {
   "cell_type": "code",
   "execution_count": 2,
   "metadata": {},
   "outputs": [
    {
     "name": "stdout",
     "output_type": "stream",
     "text": [
      "hello how are u?\n"
     ]
    }
   ],
   "source": [
    "print(tokenizer.backend_tokenizer.normalizer.normalize_str(\"Héllò hôw are ü?\"))"
   ]
  },
  {
   "cell_type": "markdown",
   "metadata": {},
   "source": [
    "## 预标记化\n",
    "\n",
    "🤗分词器不能单独在原始文本上进行训练。相反，我们首先需要将文本拆分为小实体，例如单词。这就是预标记化步骤的用武之地。 正如我们在Chapter 2, 基于单词的标记器可以简单地将原始文本拆分为空白和标点符号的单词。这些词将是分词器在训练期间可以学习的子标记的边界。\n",
    "\n",
    "要查看快速分词器如何执行预分词，我们可以使用 pre_tokenize_str() 的方法🤗"
   ]
  },
  {
   "cell_type": "code",
   "execution_count": 3,
   "metadata": {},
   "outputs": [
    {
     "data": {
      "text/plain": [
       "[('Hello', (0, 5)),\n",
       " (',', (5, 6)),\n",
       " ('how', (7, 10)),\n",
       " ('are', (11, 14)),\n",
       " ('you', (16, 19)),\n",
       " ('?', (19, 20))]"
      ]
     },
     "execution_count": 3,
     "metadata": {},
     "output_type": "execute_result"
    }
   ],
   "source": [
    "tokenizer.backend_tokenizer.pre_tokenizer.pre_tokenize_str(\"Hello, how are  you?\")"
   ]
  },
  {
   "cell_type": "code",
   "execution_count": 4,
   "metadata": {},
   "outputs": [
    {
     "data": {
      "text/plain": [
       "[('Hello', (0, 5)),\n",
       " (',', (5, 6)),\n",
       " ('Ġhow', (6, 10)),\n",
       " ('Ġare', (10, 14)),\n",
       " ('Ġ', (14, 15)),\n",
       " ('Ġyou', (15, 19)),\n",
       " ('?', (19, 20))]"
      ]
     },
     "execution_count": 4,
     "metadata": {},
     "output_type": "execute_result"
    }
   ],
   "source": [
    "tokenizer = AutoTokenizer.from_pretrained(\"gpt2\")\n",
    "tokenizer.backend_tokenizer.pre_tokenizer.pre_tokenize_str(\"Hello, how are  you?\")"
   ]
  },
  {
   "cell_type": "markdown",
   "metadata": {},
   "source": [
    "## 完整流程"
   ]
  },
  {
   "cell_type": "code",
   "execution_count": 5,
   "metadata": {},
   "outputs": [],
   "source": [
    "corpus = [\n",
    "    \"This is the Hugging Face Course.\",\n",
    "    \"This chapter is about tokenization.\",\n",
    "    \"This section shows several tokenizer algorithms.\",\n",
    "    \"Hopefully, you will be able to understand how they are trained and generate tokens.\",\n",
    "]"
   ]
  },
  {
   "cell_type": "code",
   "execution_count": 4,
   "metadata": {},
   "outputs": [],
   "source": [
    "from transformers import AutoTokenizer\n",
    "\n",
    "tokenizer = AutoTokenizer.from_pretrained(\"gpt2\")"
   ]
  },
  {
   "cell_type": "code",
   "execution_count": 5,
   "metadata": {},
   "outputs": [
    {
     "name": "stdout",
     "output_type": "stream",
     "text": [
      "[('This', (0, 4)), ('Ġis', (4, 7)), ('Ġthe', (7, 11)), ('ĠHugging', (11, 19)), ('ĠFace', (19, 24)), ('ĠCourse', (24, 31)), ('.', (31, 32))]\n",
      "[('This', (0, 4)), ('Ġchapter', (4, 12)), ('Ġis', (12, 15)), ('Ġabout', (15, 21)), ('Ġtokenization', (21, 34)), ('.', (34, 35))]\n",
      "[('This', (0, 4)), ('Ġsection', (4, 12)), ('Ġshows', (12, 18)), ('Ġseveral', (18, 26)), ('Ġtokenizer', (26, 36)), ('Ġalgorithms', (36, 47)), ('.', (47, 48))]\n",
      "[('Hopefully', (0, 9)), (',', (9, 10)), ('Ġyou', (10, 14)), ('Ġwill', (14, 19)), ('Ġbe', (19, 22)), ('Ġable', (22, 27)), ('Ġto', (27, 30)), ('Ġunderstand', (30, 41)), ('Ġhow', (41, 45)), ('Ġthey', (45, 50)), ('Ġare', (50, 54)), ('Ġtrained', (54, 62)), ('Ġand', (62, 66)), ('Ġgenerate', (66, 75)), ('Ġtokens', (75, 82)), ('.', (82, 83))]\n"
     ]
    }
   ],
   "source": [
    "from collections import defaultdict\n",
    "\n",
    "word_freqs = defaultdict(int)\n",
    "\n",
    "for text in corpus:\n",
    "    words_with_offsets = tokenizer.backend_tokenizer.pre_tokenizer.pre_tokenize_str(text)\n",
    "    print(words_with_offsets)\n",
    "    new_words = [word for word, offset in words_with_offsets]\n",
    "    for word in new_words:\n",
    "        word_freqs[word] += 1\n",
    "\n"
   ]
  },
  {
   "cell_type": "code",
   "execution_count": 6,
   "metadata": {},
   "outputs": [
    {
     "name": "stdout",
     "output_type": "stream",
     "text": [
      "defaultdict(<class 'int'>, {'This': 3, 'Ġis': 2, 'Ġthe': 1, 'ĠHugging': 1, 'ĠFace': 1, 'ĠCourse': 1, '.': 4, 'Ġchapter': 1, 'Ġabout': 1, 'Ġtokenization': 1, 'Ġsection': 1, 'Ġshows': 1, 'Ġseveral': 1, 'Ġtokenizer': 1, 'Ġalgorithms': 1, 'Hopefully': 1, ',': 1, 'Ġyou': 1, 'Ġwill': 1, 'Ġbe': 1, 'Ġable': 1, 'Ġto': 1, 'Ġunderstand': 1, 'Ġhow': 1, 'Ġthey': 1, 'Ġare': 1, 'Ġtrained': 1, 'Ġand': 1, 'Ġgenerate': 1, 'Ġtokens': 1})\n"
     ]
    }
   ],
   "source": [
    "print(word_freqs)"
   ]
  },
  {
   "cell_type": "code",
   "execution_count": 7,
   "metadata": {},
   "outputs": [
    {
     "name": "stdout",
     "output_type": "stream",
     "text": [
      "[',', '.', 'C', 'F', 'H', 'T', 'a', 'b', 'c', 'd', 'e', 'f', 'g', 'h', 'i', 'k', 'l', 'm', 'n', 'o', 'p', 'r', 's', 't', 'u', 'v', 'w', 'y', 'z', 'Ġ']\n"
     ]
    }
   ],
   "source": [
    "alphabet = []\n",
    "\n",
    "for word in word_freqs.keys():\n",
    "    for letter in word:\n",
    "        if letter not in alphabet:\n",
    "            alphabet.append(letter)\n",
    "alphabet.sort()\n",
    "\n",
    "print(alphabet)\n"
   ]
  },
  {
   "cell_type": "code",
   "execution_count": 8,
   "metadata": {},
   "outputs": [],
   "source": [
    "vocab = [\"<|endoftext|>\"] + alphabet.copy()"
   ]
  },
  {
   "cell_type": "code",
   "execution_count": 9,
   "metadata": {},
   "outputs": [],
   "source": [
    "splits = {word: [c for c in word] for word in word_freqs.keys()}"
   ]
  },
  {
   "cell_type": "code",
   "execution_count": 10,
   "metadata": {},
   "outputs": [
    {
     "data": {
      "text/plain": [
       "{'This': ['T', 'h', 'i', 's'],\n",
       " 'Ġis': ['Ġ', 'i', 's'],\n",
       " 'Ġthe': ['Ġ', 't', 'h', 'e'],\n",
       " 'ĠHugging': ['Ġ', 'H', 'u', 'g', 'g', 'i', 'n', 'g'],\n",
       " 'ĠFace': ['Ġ', 'F', 'a', 'c', 'e'],\n",
       " 'ĠCourse': ['Ġ', 'C', 'o', 'u', 'r', 's', 'e'],\n",
       " '.': ['.'],\n",
       " 'Ġchapter': ['Ġ', 'c', 'h', 'a', 'p', 't', 'e', 'r'],\n",
       " 'Ġabout': ['Ġ', 'a', 'b', 'o', 'u', 't'],\n",
       " 'Ġtokenization': ['Ġ',\n",
       "  't',\n",
       "  'o',\n",
       "  'k',\n",
       "  'e',\n",
       "  'n',\n",
       "  'i',\n",
       "  'z',\n",
       "  'a',\n",
       "  't',\n",
       "  'i',\n",
       "  'o',\n",
       "  'n'],\n",
       " 'Ġsection': ['Ġ', 's', 'e', 'c', 't', 'i', 'o', 'n'],\n",
       " 'Ġshows': ['Ġ', 's', 'h', 'o', 'w', 's'],\n",
       " 'Ġseveral': ['Ġ', 's', 'e', 'v', 'e', 'r', 'a', 'l'],\n",
       " 'Ġtokenizer': ['Ġ', 't', 'o', 'k', 'e', 'n', 'i', 'z', 'e', 'r'],\n",
       " 'Ġalgorithms': ['Ġ', 'a', 'l', 'g', 'o', 'r', 'i', 't', 'h', 'm', 's'],\n",
       " 'Hopefully': ['H', 'o', 'p', 'e', 'f', 'u', 'l', 'l', 'y'],\n",
       " ',': [','],\n",
       " 'Ġyou': ['Ġ', 'y', 'o', 'u'],\n",
       " 'Ġwill': ['Ġ', 'w', 'i', 'l', 'l'],\n",
       " 'Ġbe': ['Ġ', 'b', 'e'],\n",
       " 'Ġable': ['Ġ', 'a', 'b', 'l', 'e'],\n",
       " 'Ġto': ['Ġ', 't', 'o'],\n",
       " 'Ġunderstand': ['Ġ', 'u', 'n', 'd', 'e', 'r', 's', 't', 'a', 'n', 'd'],\n",
       " 'Ġhow': ['Ġ', 'h', 'o', 'w'],\n",
       " 'Ġthey': ['Ġ', 't', 'h', 'e', 'y'],\n",
       " 'Ġare': ['Ġ', 'a', 'r', 'e'],\n",
       " 'Ġtrained': ['Ġ', 't', 'r', 'a', 'i', 'n', 'e', 'd'],\n",
       " 'Ġand': ['Ġ', 'a', 'n', 'd'],\n",
       " 'Ġgenerate': ['Ġ', 'g', 'e', 'n', 'e', 'r', 'a', 't', 'e'],\n",
       " 'Ġtokens': ['Ġ', 't', 'o', 'k', 'e', 'n', 's']}"
      ]
     },
     "execution_count": 10,
     "metadata": {},
     "output_type": "execute_result"
    }
   ],
   "source": [
    "splits"
   ]
  },
  {
   "cell_type": "code",
   "execution_count": 11,
   "metadata": {},
   "outputs": [],
   "source": [
    "def compute_pair_freqs(splits):\n",
    "    pair_freqs = defaultdict(int)\n",
    "    for word, freq in word_freqs.items():\n",
    "        split = splits[word]\n",
    "        if len(split) == 1:\n",
    "            continue\n",
    "        for i in range(len(split) - 1):\n",
    "            pair = (split[i], split[i + 1])\n",
    "            pair_freqs[pair] += freq\n",
    "    return pair_freqs"
   ]
  },
  {
   "cell_type": "code",
   "execution_count": 12,
   "metadata": {},
   "outputs": [],
   "source": [
    "pair_freqs=compute_pair_freqs(splits)\n"
   ]
  },
  {
   "cell_type": "code",
   "execution_count": 13,
   "metadata": {},
   "outputs": [
    {
     "data": {
      "text/plain": [
       "defaultdict(int,\n",
       "            {('T', 'h'): 3,\n",
       "             ('h', 'i'): 3,\n",
       "             ('i', 's'): 5,\n",
       "             ('Ġ', 'i'): 2,\n",
       "             ('Ġ', 't'): 7,\n",
       "             ('t', 'h'): 3,\n",
       "             ('h', 'e'): 2,\n",
       "             ('Ġ', 'H'): 1,\n",
       "             ('H', 'u'): 1,\n",
       "             ('u', 'g'): 1,\n",
       "             ('g', 'g'): 1,\n",
       "             ('g', 'i'): 1,\n",
       "             ('i', 'n'): 2,\n",
       "             ('n', 'g'): 1,\n",
       "             ('Ġ', 'F'): 1,\n",
       "             ('F', 'a'): 1,\n",
       "             ('a', 'c'): 1,\n",
       "             ('c', 'e'): 1,\n",
       "             ('Ġ', 'C'): 1,\n",
       "             ('C', 'o'): 1,\n",
       "             ('o', 'u'): 3,\n",
       "             ('u', 'r'): 1,\n",
       "             ('r', 's'): 2,\n",
       "             ('s', 'e'): 3,\n",
       "             ('Ġ', 'c'): 1,\n",
       "             ('c', 'h'): 1,\n",
       "             ('h', 'a'): 1,\n",
       "             ('a', 'p'): 1,\n",
       "             ('p', 't'): 1,\n",
       "             ('t', 'e'): 2,\n",
       "             ('e', 'r'): 5,\n",
       "             ('Ġ', 'a'): 5,\n",
       "             ('a', 'b'): 2,\n",
       "             ('b', 'o'): 1,\n",
       "             ('u', 't'): 1,\n",
       "             ('t', 'o'): 4,\n",
       "             ('o', 'k'): 3,\n",
       "             ('k', 'e'): 3,\n",
       "             ('e', 'n'): 4,\n",
       "             ('n', 'i'): 2,\n",
       "             ('i', 'z'): 2,\n",
       "             ('z', 'a'): 1,\n",
       "             ('a', 't'): 2,\n",
       "             ('t', 'i'): 2,\n",
       "             ('i', 'o'): 2,\n",
       "             ('o', 'n'): 2,\n",
       "             ('Ġ', 's'): 3,\n",
       "             ('e', 'c'): 1,\n",
       "             ('c', 't'): 1,\n",
       "             ('s', 'h'): 1,\n",
       "             ('h', 'o'): 2,\n",
       "             ('o', 'w'): 2,\n",
       "             ('w', 's'): 1,\n",
       "             ('e', 'v'): 1,\n",
       "             ('v', 'e'): 1,\n",
       "             ('r', 'a'): 3,\n",
       "             ('a', 'l'): 2,\n",
       "             ('z', 'e'): 1,\n",
       "             ('l', 'g'): 1,\n",
       "             ('g', 'o'): 1,\n",
       "             ('o', 'r'): 1,\n",
       "             ('r', 'i'): 1,\n",
       "             ('i', 't'): 1,\n",
       "             ('h', 'm'): 1,\n",
       "             ('m', 's'): 1,\n",
       "             ('H', 'o'): 1,\n",
       "             ('o', 'p'): 1,\n",
       "             ('p', 'e'): 1,\n",
       "             ('e', 'f'): 1,\n",
       "             ('f', 'u'): 1,\n",
       "             ('u', 'l'): 1,\n",
       "             ('l', 'l'): 2,\n",
       "             ('l', 'y'): 1,\n",
       "             ('Ġ', 'y'): 1,\n",
       "             ('y', 'o'): 1,\n",
       "             ('Ġ', 'w'): 1,\n",
       "             ('w', 'i'): 1,\n",
       "             ('i', 'l'): 1,\n",
       "             ('Ġ', 'b'): 1,\n",
       "             ('b', 'e'): 1,\n",
       "             ('b', 'l'): 1,\n",
       "             ('l', 'e'): 1,\n",
       "             ('Ġ', 'u'): 1,\n",
       "             ('u', 'n'): 1,\n",
       "             ('n', 'd'): 3,\n",
       "             ('d', 'e'): 1,\n",
       "             ('s', 't'): 1,\n",
       "             ('t', 'a'): 1,\n",
       "             ('a', 'n'): 2,\n",
       "             ('Ġ', 'h'): 1,\n",
       "             ('e', 'y'): 1,\n",
       "             ('a', 'r'): 1,\n",
       "             ('r', 'e'): 1,\n",
       "             ('t', 'r'): 1,\n",
       "             ('a', 'i'): 1,\n",
       "             ('n', 'e'): 2,\n",
       "             ('e', 'd'): 1,\n",
       "             ('Ġ', 'g'): 1,\n",
       "             ('g', 'e'): 1,\n",
       "             ('n', 's'): 1})"
      ]
     },
     "execution_count": 13,
     "metadata": {},
     "output_type": "execute_result"
    }
   ],
   "source": [
    "pair_freqs"
   ]
  },
  {
   "cell_type": "code",
   "execution_count": 14,
   "metadata": {},
   "outputs": [
    {
     "name": "stdout",
     "output_type": "stream",
     "text": [
      "('T', 'h'): 3\n",
      "('h', 'i'): 3\n",
      "('i', 's'): 5\n",
      "('Ġ', 'i'): 2\n",
      "('Ġ', 't'): 7\n",
      "('t', 'h'): 3\n"
     ]
    }
   ],
   "source": [
    "for i, key in enumerate(pair_freqs.keys()):\n",
    "    print(f\"{key}: {pair_freqs[key]}\")\n",
    "    if i >= 5:\n",
    "        break\n"
   ]
  },
  {
   "cell_type": "code",
   "execution_count": 15,
   "metadata": {},
   "outputs": [
    {
     "name": "stdout",
     "output_type": "stream",
     "text": [
      "('Ġ', 't') 7\n"
     ]
    }
   ],
   "source": [
    "best_pair = \"\"\n",
    "max_freq = None\n",
    "\n",
    "for pair, freq in pair_freqs.items():\n",
    "    if max_freq is None or max_freq < freq:\n",
    "        best_pair = pair\n",
    "        max_freq = freq\n",
    "\n",
    "print(best_pair, max_freq)\n"
   ]
  },
  {
   "cell_type": "markdown",
   "metadata": {},
   "source": [
    "### 合并"
   ]
  },
  {
   "cell_type": "code",
   "execution_count": 16,
   "metadata": {},
   "outputs": [],
   "source": [
    "def merge_pair(a, b, splits):\n",
    "    for word in word_freqs:\n",
    "        split = splits[word]\n",
    "        if len(split) == 1:\n",
    "            continue\n",
    "\n",
    "        i = 0\n",
    "        while i < len(split) - 1:\n",
    "            if split[i] == a and split[i + 1] == b:\n",
    "                split = split[:i] + [a + b] + split[i + 2 :]\n",
    "            else:\n",
    "                i += 1\n",
    "        splits[word] = split\n",
    "    return splits"
   ]
  },
  {
   "cell_type": "code",
   "execution_count": 17,
   "metadata": {},
   "outputs": [
    {
     "name": "stdout",
     "output_type": "stream",
     "text": [
      "['Ġt', 'r', 'a', 'i', 'n', 'e', 'd']\n"
     ]
    }
   ],
   "source": [
    "splits = merge_pair(\"Ġ\", \"t\", splits)\n",
    "print(splits[\"Ġtrained\"])"
   ]
  },
  {
   "cell_type": "code",
   "execution_count": 25,
   "metadata": {},
   "outputs": [],
   "source": [
    "vocab_size = 100\n",
    "merges={}\n",
    "while len(vocab) < vocab_size:\n",
    "    pair_freqs = compute_pair_freqs(splits)\n",
    "    best_pair = \"\"\n",
    "    max_freq = None\n",
    "    for pair, freq in pair_freqs.items():\n",
    "        if max_freq is None or max_freq < freq:\n",
    "            best_pair = pair\n",
    "            max_freq = freq\n",
    "    splits = merge_pair(*best_pair, splits)\n",
    "    merges[best_pair] = best_pair[0] + best_pair[1]\n",
    "    vocab.append(best_pair[0] + best_pair[1])"
   ]
  },
  {
   "cell_type": "code",
   "execution_count": 26,
   "metadata": {},
   "outputs": [
    {
     "data": {
      "text/plain": [
       "{('a', 't'): 'at',\n",
       " ('i', 'o'): 'io',\n",
       " ('io', 'n'): 'ion',\n",
       " ('Ġ', 'se'): 'Ġse',\n",
       " ('h', 'o'): 'ho',\n",
       " ('ho', 'w'): 'how',\n",
       " ('l', 'l'): 'll',\n",
       " ('Ġ', 'H'): 'ĠH',\n",
       " ('ĠH', 'u'): 'ĠHu',\n",
       " ('ĠHu', 'g'): 'ĠHug',\n",
       " ('ĠHug', 'g'): 'ĠHugg',\n",
       " ('ĠHugg', 'in'): 'ĠHuggin',\n",
       " ('ĠHuggin', 'g'): 'ĠHugging',\n",
       " ('Ġ', 'F'): 'ĠF',\n",
       " ('ĠF', 'a'): 'ĠFa',\n",
       " ('ĠFa', 'c'): 'ĠFac',\n",
       " ('ĠFac', 'e'): 'ĠFace',\n",
       " ('Ġ', 'C'): 'ĠC',\n",
       " ('ĠC', 'ou'): 'ĠCou',\n",
       " ('ĠCou', 'r'): 'ĠCour',\n",
       " ('ĠCour', 'se'): 'ĠCourse',\n",
       " ('Ġ', 'c'): 'Ġc',\n",
       " ('Ġc', 'h'): 'Ġch',\n",
       " ('Ġch', 'a'): 'Ġcha',\n",
       " ('Ġcha', 'p'): 'Ġchap',\n",
       " ('Ġchap', 't'): 'Ġchapt',\n",
       " ('Ġchapt', 'er'): 'Ġchapter',\n",
       " ('Ġab', 'ou'): 'Ġabou',\n",
       " ('Ġabou', 't'): 'Ġabout',\n",
       " ('Ġtokeniz', 'at'): 'Ġtokenizat',\n",
       " ('Ġtokenizat', 'ion'): 'Ġtokenization',\n",
       " ('Ġse', 'c'): 'Ġsec',\n",
       " ('Ġsec', 't'): 'Ġsect',\n",
       " ('Ġsect', 'ion'): 'Ġsection',\n",
       " ('Ġ', 's'): 'Ġs',\n",
       " ('Ġs', 'how'): 'Ġshow',\n",
       " ('Ġshow', 's'): 'Ġshows',\n",
       " ('Ġse', 'v'): 'Ġsev',\n",
       " ('Ġsev', 'er'): 'Ġsever',\n",
       " ('Ġsever', 'a'): 'Ġsevera',\n",
       " ('Ġsevera', 'l'): 'Ġseveral',\n",
       " ('Ġtokeniz', 'er'): 'Ġtokenizer',\n",
       " ('Ġa', 'l'): 'Ġal',\n",
       " ('Ġal', 'g'): 'Ġalg',\n",
       " ('Ġalg', 'o'): 'Ġalgo',\n",
       " ('Ġalgo', 'r'): 'Ġalgor',\n",
       " ('Ġalgor', 'i'): 'Ġalgori',\n",
       " ('Ġalgori', 't'): 'Ġalgorit',\n",
       " ('Ġalgorit', 'h'): 'Ġalgorith',\n",
       " ('Ġalgorith', 'm'): 'Ġalgorithm'}"
      ]
     },
     "execution_count": 26,
     "metadata": {},
     "output_type": "execute_result"
    }
   ],
   "source": [
    "merges"
   ]
  },
  {
   "cell_type": "code",
   "execution_count": 6,
   "metadata": {},
   "outputs": [],
   "source": []
  },
  {
   "cell_type": "code",
   "execution_count": null,
   "metadata": {},
   "outputs": [],
   "source": []
  },
  {
   "cell_type": "code",
   "execution_count": null,
   "metadata": {},
   "outputs": [],
   "source": []
  },
  {
   "cell_type": "markdown",
   "metadata": {},
   "source": [
    "## 所有代码整合成类"
   ]
  },
  {
   "cell_type": "code",
   "execution_count": 27,
   "metadata": {},
   "outputs": [],
   "source": [
    "from collections import defaultdict\n",
    "from transformers import AutoTokenizer\n",
    "import json\n",
    "\n",
    "class BPE_tokenizer:\n",
    "    def __init__(self, corpus, vocab_size=100):\n",
    "        self.corpus = corpus\n",
    "        self.vocab_size = vocab_size\n",
    "        self.tokenizer = AutoTokenizer.from_pretrained(\"gpt2\")\n",
    "        self.word_freqs = defaultdict(int)\n",
    "        self.vocab = [\"<|endoftext|>\"]\n",
    "        self.splits = {}\n",
    "        self.merges = {}\n",
    "        \n",
    "        if corpus is not None:\n",
    "            self._compute_word_freqs()\n",
    "            self._build_alphabet()\n",
    "            self._train()\n",
    "\n",
    "    def _compute_word_freqs(self):\n",
    "        for text in self.corpus:\n",
    "            words_with_offsets = self.tokenizer.backend_tokenizer.pre_tokenizer.pre_tokenize_str(text)\n",
    "            new_words = [word for word, offset in words_with_offsets]\n",
    "            for word in new_words:\n",
    "                self.word_freqs[word] += 1\n",
    "\n",
    "    def _build_alphabet(self):\n",
    "        alphabet = []\n",
    "        for word in self.word_freqs.keys():\n",
    "            for letter in word:\n",
    "                if letter not in alphabet:\n",
    "                    alphabet.append(letter)\n",
    "        alphabet.sort()\n",
    "        self.vocab.extend(alphabet)\n",
    "        self.splits = {word: [c for c in word] for word in self.word_freqs.keys()}\n",
    "\n",
    "    def _compute_pair_freqs(self):\n",
    "        pair_freqs = defaultdict(int)\n",
    "        for word, freq in self.word_freqs.items():\n",
    "            split = self.splits[word]\n",
    "            if len(split) == 1:\n",
    "                continue\n",
    "            for i in range(len(split) - 1):\n",
    "                pair = (split[i], split[i + 1])\n",
    "                pair_freqs[pair] += freq\n",
    "        return pair_freqs\n",
    "\n",
    "    def _get_best_pair(self, pair_freqs):\n",
    "        best_pair = \"\"\n",
    "        max_freq = None\n",
    "        for pair, freq in pair_freqs.items():\n",
    "            if max_freq is None or max_freq < freq:\n",
    "                best_pair = pair\n",
    "                max_freq = freq\n",
    "        return best_pair, max_freq\n",
    "\n",
    "    def _merge_pair(self, a, b):\n",
    "        for word in self.word_freqs:\n",
    "            split = self.splits[word]\n",
    "            if len(split) == 1:\n",
    "                continue\n",
    "            i = 0\n",
    "            while i < len(split) - 1:\n",
    "                if split[i] == a and split[i + 1] == b:\n",
    "                    split = split[:i] + [a + b] + split[i + 2 :]\n",
    "                else:\n",
    "                    i += 1\n",
    "            self.splits[word] = split\n",
    "\n",
    "    def _train(self):\n",
    "        while len(self.vocab) < self.vocab_size:\n",
    "            pair_freqs = self._compute_pair_freqs()\n",
    "            best_pair, _ = self._get_best_pair(pair_freqs)\n",
    "            self._merge_pair(*best_pair)\n",
    "            self.merges[best_pair] = best_pair[0] + best_pair[1]\n",
    "            self.vocab.append(best_pair[0] + best_pair[1])\n",
    "\n",
    "    def tokenize(self, text):\n",
    "        pre_tokenize_result = self.tokenizer._tokenizer.pre_tokenizer.pre_tokenize_str(text)\n",
    "        pre_tokenized_text = [word for word, offset in pre_tokenize_result]\n",
    "        splits = [[l for l in word] for word in pre_tokenized_text]\n",
    "        for pair, merge in self.merges.items():\n",
    "            for idx, split in enumerate(splits):\n",
    "                i = 0\n",
    "                while i < len(split) - 1:\n",
    "                    if split[i] == pair[0] and split[i + 1] == pair[1]:\n",
    "                        split = split[:i] + [merge] + split[i + 2 :]\n",
    "                    else:\n",
    "                        i += 1\n",
    "                splits[idx] = split\n",
    "        return sum(splits, [])\n",
    "    def save(self, filepath='tokenizer.json'):\n",
    "        \"\"\"保存分词器到文件（JSON格式）\"\"\"\n",
    "        state = {\n",
    "            'vocab_size': self.vocab_size,\n",
    "            'word_freqs': dict(self.word_freqs),\n",
    "            'vocab': self.vocab,\n",
    "            'splits': self.splits,\n",
    "            'merges': {str(k): v for k, v in self.merges.items()}  # 将元组键转换为字符串\n",
    "        }\n",
    "        with open(filepath, 'w', encoding='utf-8') as f:\n",
    "            json.dump(state, f, ensure_ascii=False, indent=2)\n",
    "\n",
    "\n",
    "    @classmethod\n",
    "    def load(cls, filepath):\n",
    "        \"\"\"从文件加载分词器（JSON格式）\"\"\"\n",
    "        with open(filepath, 'r', encoding='utf-8') as f:\n",
    "            state = json.load(f)\n",
    "        \n",
    "        tokenizer = cls()\n",
    "        tokenizer.vocab_size = state['vocab_size']\n",
    "        tokenizer.word_freqs = defaultdict(int, state['word_freqs'])\n",
    "        tokenizer.vocab = state['vocab']\n",
    "        tokenizer.splits = state['splits']\n",
    "        tokenizer.merges = {tuple(k.split(\"', '\")): v for k, v in state['merges'].items()}  # 将字符串键转换回元组\n",
    "        \n",
    "        return tokenizer"
   ]
  },
  {
   "cell_type": "code",
   "execution_count": 28,
   "metadata": {},
   "outputs": [
    {
     "name": "stdout",
     "output_type": "stream",
     "text": [
      "['This', 'Ġis', 'Ġa', 'Ġ', 'n', 'e', 'w', 'Ġs', 'en', 't', 'en', 'c', 'e', 'Ġto', 'Ġtokeniz', 'e', '.']\n"
     ]
    }
   ],
   "source": [
    "# 定义语料库\n",
    "corpus = [\n",
    "    \"This is the Hugging Face Course.\",\n",
    "    \"This chapter is about tokenization.\",\n",
    "    \"This section shows several tokenizer algorithms.\",\n",
    "    \"Hopefully, you will be able to understand how they are trained and generate tokens.\",\n",
    "]\n",
    "\n",
    "# 创建 BPE_tokenizer 实例\n",
    "tokenizer = BPE_tokenizer(corpus, vocab_size=100)\n",
    "\n",
    "# 使用 tokenizer 对新文本进行分词\n",
    "text = \"This is a new sentence to tokenize.\"\n",
    "tokens = tokenizer.tokenize(text)\n",
    "print(tokens)"
   ]
  },
  {
   "cell_type": "code",
   "execution_count": 30,
   "metadata": {},
   "outputs": [],
   "source": [
    "tokenizer.save()"
   ]
  },
  {
   "cell_type": "markdown",
   "metadata": {},
   "source": [
    "ddd"
   ]
  },
  {
   "cell_type": "code",
   "execution_count": 1,
   "metadata": {},
   "outputs": [
    {
     "name": "stdout",
     "output_type": "stream",
     "text": [
      "Saved tokenizer to tokenizer.json\n"
     ]
    }
   ],
   "source": [
    "print(\"Saved tokenizer to tokenizer.json\")"
   ]
  },
  {
   "cell_type": "code",
   "execution_count": null,
   "metadata": {},
   "outputs": [],
   "source": []
  },
  {
   "cell_type": "code",
   "execution_count": null,
   "metadata": {},
   "outputs": [],
   "source": [
    "# 加载分词器 from tokenizer.json\n"
   ]
  }
 ],
 "metadata": {
  "kernelspec": {
   "display_name": "compass",
   "language": "python",
   "name": "python3"
  },
  "language_info": {
   "codemirror_mode": {
    "name": "ipython",
    "version": 3
   },
   "file_extension": ".py",
   "mimetype": "text/x-python",
   "name": "python",
   "nbconvert_exporter": "python",
   "pygments_lexer": "ipython3",
   "version": "3.10.14"
  }
 },
 "nbformat": 4,
 "nbformat_minor": 2
}
