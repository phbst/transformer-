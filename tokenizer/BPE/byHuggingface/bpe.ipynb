{
 "cells": [
  {
   "cell_type": "code",
   "execution_count": 20,
   "metadata": {},
   "outputs": [],
   "source": [
    "from tokenizers import CharBPETokenizer\n",
    "\n",
    "# Instantiate tokenizer\n",
    "tokenizer = CharBPETokenizer()\n",
    "\n"
   ]
  },
  {
   "cell_type": "code",
   "execution_count": 21,
   "metadata": {},
   "outputs": [],
   "source": [
    "corpus = [\n",
    "    \"This is the Hugging Face Course.\",\n",
    "    \"This chapter is about tokenization.\",\n",
    "    \"This section shows several tokenizer algorithms.\",\n",
    "    \"Hopefully, you will be able to understand how they are trained and generate tokens.\",\n",
    "]"
   ]
  },
  {
   "cell_type": "code",
   "execution_count": 22,
   "metadata": {},
   "outputs": [
    {
     "name": "stdout",
     "output_type": "stream",
     "text": [
      "\n",
      "\n",
      "\n"
     ]
    }
   ],
   "source": [
    "tokenizer.train_from_iterator(\n",
    "    corpus,\n",
    "    vocab_size=100,\n",
    "    min_frequency=2,\n",
    ")"
   ]
  },
  {
   "cell_type": "code",
   "execution_count": 25,
   "metadata": {},
   "outputs": [
    {
     "data": {
      "text/plain": [
       "{'in': 58,\n",
       " 'p': 21,\n",
       " 's': 23,\n",
       " 'w': 27,\n",
       " 'n': 19,\n",
       " 'ou': 61,\n",
       " 'e</w>': 32,\n",
       " '<unk>': 0,\n",
       " 'io': 59,\n",
       " 'o': 20,\n",
       " 'n</w>': 33,\n",
       " 'T': 6,\n",
       " 'u': 25,\n",
       " 't': 24,\n",
       " 'is</w>': 44,\n",
       " 'ken': 48,\n",
       " 'a': 7,\n",
       " 't</w>': 34,\n",
       " 'Th': 46,\n",
       " 'oken': 49,\n",
       " 'c': 9,\n",
       " ',': 1,\n",
       " 'h': 14,\n",
       " 'v': 26,\n",
       " 'u</w>': 41,\n",
       " 'H': 5,\n",
       " '.': 2,\n",
       " 'er': 47,\n",
       " 'at': 55,\n",
       " '.</w>': 38,\n",
       " 'g</w>': 31,\n",
       " 'and</w>': 64,\n",
       " 'l</w>': 36,\n",
       " 'e': 11,\n",
       " 'ion</w>': 65,\n",
       " 'r': 22,\n",
       " 'k': 16,\n",
       " 'd': 10,\n",
       " 'y': 28,\n",
       " 'tokeniz': 63,\n",
       " 'token': 51,\n",
       " 'g': 13,\n",
       " 'This</w>': 52,\n",
       " 'w</w>': 43,\n",
       " 'r</w>': 35,\n",
       " 'y</w>': 37,\n",
       " 'ho': 57,\n",
       " 'f': 12,\n",
       " 'i': 15,\n",
       " 'm': 18,\n",
       " 'iz': 60,\n",
       " 'l': 17,\n",
       " 'th': 50,\n",
       " ',</w>': 40,\n",
       " 'd</w>': 39,\n",
       " 'an': 54,\n",
       " 'F': 4,\n",
       " 's</w>': 30,\n",
       " 'b': 8,\n",
       " 'o</w>': 42,\n",
       " 'C': 3,\n",
       " 'z': 29,\n",
       " 'er</w>': 56,\n",
       " 'en': 45,\n",
       " 'ab': 53,\n",
       " 'se': 62}"
      ]
     },
     "execution_count": 25,
     "metadata": {},
     "output_type": "execute_result"
    }
   ],
   "source": [
    "tokenizer.get_vocab()"
   ]
  },
  {
   "cell_type": "code",
   "execution_count": 23,
   "metadata": {},
   "outputs": [],
   "source": [
    "tokenizer.save(\"tokenizer.json\")"
   ]
  },
  {
   "cell_type": "code",
   "execution_count": null,
   "metadata": {},
   "outputs": [],
   "source": []
  },
  {
   "cell_type": "code",
   "execution_count": null,
   "metadata": {},
   "outputs": [],
   "source": []
  },
  {
   "cell_type": "code",
   "execution_count": null,
   "metadata": {},
   "outputs": [],
   "source": []
  },
  {
   "cell_type": "code",
   "execution_count": null,
   "metadata": {},
   "outputs": [],
   "source": []
  },
  {
   "cell_type": "code",
   "execution_count": null,
   "metadata": {},
   "outputs": [],
   "source": []
  },
  {
   "cell_type": "code",
   "execution_count": null,
   "metadata": {},
   "outputs": [],
   "source": []
  }
 ],
 "metadata": {
  "kernelspec": {
   "display_name": "phb",
   "language": "python",
   "name": "phb"
  },
  "language_info": {
   "codemirror_mode": {
    "name": "ipython",
    "version": 3
   },
   "file_extension": ".py",
   "mimetype": "text/x-python",
   "name": "python",
   "nbconvert_exporter": "python",
   "pygments_lexer": "ipython3",
   "version": "3.10.14"
  }
 },
 "nbformat": 4,
 "nbformat_minor": 2
}
