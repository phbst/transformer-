{
 "cells": [
  {
   "cell_type": "markdown",
   "metadata": {},
   "source": [
    "### 基于Hugginfface的构建"
   ]
  },
  {
   "cell_type": "code",
   "execution_count": null,
   "metadata": {
    "vscode": {
     "languageId": "plaintext"
    }
   },
   "outputs": [],
   "source": [
    "from tokenizers import CharBPETokenizer\n",
    "\n",
    "# Instantiate tokenizer\n",
    "tokenizer = CharBPETokenizer()\n",
    "\n",
    "tokenizer.train_from_iterator(\n",
    "    corpus,\n",
    "    vocab_size=17,\n",
    "    min_frequency=2,\n",
    ")"
   ]
  }
 ],
 "metadata": {
  "language_info": {
   "name": "python"
  }
 },
 "nbformat": 4,
 "nbformat_minor": 2
}
